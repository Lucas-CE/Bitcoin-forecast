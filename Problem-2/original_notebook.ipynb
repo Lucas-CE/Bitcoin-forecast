{
  "cells": [
    {
      "cell_type": "markdown",
      "metadata": {
        "id": "4-p3gZpILTVr"
      },
      "source": [
        "# Bitcoin price forecast"
      ]
    },
    {
      "cell_type": "markdown",
      "metadata": {
        "id": "7p2IIiIsLTVs"
      },
      "source": [
        "### ATENTION: This notebook has an error applying the scaler. The scaler should be fitted to the training data and then applied to all the data. This is not done in this notebook."
      ]
    },
    {
      "cell_type": "code",
      "execution_count": null,
      "metadata": {
        "id": "EyQ6wLPzLTVt"
      },
      "outputs": [],
      "source": [
        "import pandas as pd\n",
        "import datetime\n",
        "from sklearn.preprocessing import MinMaxScaler\n",
        "import matplotlib.pyplot as plt"
      ]
    },
    {
      "cell_type": "code",
      "execution_count": null,
      "metadata": {
        "colab": {
          "base_uri": "https://localhost:8080/",
          "height": 206
        },
        "id": "BIIjzEDfLTVt",
        "outputId": "101b1d59-21a4-433c-bd54-f2fe283288f6"
      },
      "outputs": [],
      "source": [
        "# dataset @ https://finance.yahoo.com/quote/BTC-USD/history/\n",
        "df = pd.read_csv('BTC-USD.csv')\n",
        "df.head()"
      ]
    },
    {
      "cell_type": "code",
      "execution_count": null,
      "metadata": {
        "colab": {
          "base_uri": "https://localhost:8080/",
          "height": 206
        },
        "id": "fAvPr6GnLTVu",
        "outputId": "54e4e774-a7c5-4feb-8f26-ac2fe86733fb"
      },
      "outputs": [],
      "source": [
        "df = df[['Date', 'Close']]\n",
        "df.head()"
      ]
    },
    {
      "cell_type": "code",
      "execution_count": null,
      "metadata": {
        "colab": {
          "base_uri": "https://localhost:8080/"
        },
        "id": "KUCYoMrHLTVu",
        "outputId": "0971e440-a58d-4d41-b4ea-fcadc1c7d21e"
      },
      "outputs": [],
      "source": [
        "def str_to_datetime(s):\n",
        "  split = s.split('-')\n",
        "  year, month, day = int(split[0]), int(split[1]), int(split[2])\n",
        "  return datetime.datetime(year=year, month=month, day=day)\n",
        "\n",
        "datetime_object = str_to_datetime('1986-03-19')\n",
        "datetime_object"
      ]
    },
    {
      "cell_type": "code",
      "execution_count": null,
      "metadata": {
        "colab": {
          "base_uri": "https://localhost:8080/"
        },
        "id": "1ik2fF3iLTVu",
        "outputId": "40beb26e-7782-4081-c69d-bd2c279f9b2f"
      },
      "outputs": [],
      "source": [
        "df['Date'] = df['Date'].apply(str_to_datetime)\n",
        "df['Date'].head()"
      ]
    },
    {
      "cell_type": "code",
      "execution_count": null,
      "metadata": {
        "colab": {
          "base_uri": "https://localhost:8080/",
          "height": 237
        },
        "id": "OcO0cECpLTVu",
        "outputId": "99dda2be-4c2f-4a7e-bfb8-eba52009b96a"
      },
      "outputs": [],
      "source": [
        "df.index = df.pop('Date')\n",
        "df.head()"
      ]
    },
    {
      "cell_type": "code",
      "execution_count": null,
      "metadata": {
        "colab": {
          "base_uri": "https://localhost:8080/",
          "height": 455
        },
        "id": "RM1JyCbVLTVu",
        "outputId": "f68a6a87-2e07-4259-edb8-bfdb1845ae3a"
      },
      "outputs": [],
      "source": [
        "period_in_days = 10\n",
        "df['Change'] = (df['Close'].shift(-period_in_days) - df['Close']) / df['Close']\n",
        "df.drop(df.index[-period_in_days:], inplace=True)\n",
        "df"
      ]
    },
    {
      "cell_type": "code",
      "execution_count": null,
      "metadata": {
        "colab": {
          "base_uri": "https://localhost:8080/",
          "height": 237
        },
        "id": "V3iL4zh7LTVu",
        "outputId": "f25241c2-ba90-46d5-b673-7070d478bd04"
      },
      "outputs": [],
      "source": [
        "change_percentage = 4\n",
        "df['Change_bin'] = (df['Change'] >= change_percentage/100).astype(int)\n",
        "df.head()"
      ]
    },
    {
      "cell_type": "code",
      "execution_count": null,
      "metadata": {
        "colab": {
          "base_uri": "https://localhost:8080/",
          "height": 430
        },
        "id": "JxnuUecJLTVu",
        "outputId": "15e63c48-7e98-4ed2-8227-a34be659d7d6"
      },
      "outputs": [],
      "source": [
        "df['Change_bin'].hist()\n",
        "plt.show()"
      ]
    },
    {
      "cell_type": "code",
      "execution_count": null,
      "metadata": {
        "colab": {
          "base_uri": "https://localhost:8080/",
          "height": 447
        },
        "id": "ZBgvIpflLTVu",
        "outputId": "ad8069b9-314a-4218-946c-49265c80f33f"
      },
      "outputs": [],
      "source": [
        "plt.plot(df.index, df['Change'])"
      ]
    },
    {
      "cell_type": "code",
      "execution_count": null,
      "metadata": {
        "colab": {
          "base_uri": "https://localhost:8080/",
          "height": 237
        },
        "id": "9PImi0JuLTVv",
        "outputId": "59b3ffb5-ef6d-4009-9f58-1117b441855d"
      },
      "outputs": [],
      "source": [
        "scaler = MinMaxScaler(feature_range=(0, 1))\n",
        "change_scaled = scaler.fit_transform(df['Change'].values.reshape(-1,1))\n",
        "close_scaled = scaler.fit_transform(df['Close'].values.reshape(-1,1))\n",
        "df['Change'] = change_scaled\n",
        "df['Close'] = close_scaled\n",
        "df.head()"
      ]
    },
    {
      "cell_type": "code",
      "execution_count": null,
      "metadata": {
        "colab": {
          "base_uri": "https://localhost:8080/",
          "height": 359
        },
        "id": "Ccaq2j7NLTVv",
        "outputId": "c5ad7ef3-d660-4a4a-e36b-f35102661292"
      },
      "outputs": [],
      "source": [
        "import numpy as np\n",
        "\n",
        "# n = number of features\n",
        "def df_to_windowed_df(dataframe, n=3):\n",
        "  column_features = dataframe.columns[:-1]\n",
        "  target = dataframe.loc[:,df.columns[-1]].to_numpy()\n",
        "  dates = dataframe.index[n-1:].to_numpy()\n",
        "  Y = target[n-1:]\n",
        "  feat_amount = len(df.columns) - 1\n",
        "  input_columns = []\n",
        "  for i in range(1, feat_amount + 1):\n",
        "    input_columns.append(dataframe.loc[:,dataframe.columns[-1 * i - 1]].to_numpy())\n",
        "\n",
        "  X = []\n",
        "  # X[j] correspond to the j-th feature\n",
        "  for i in range(feat_amount):\n",
        "    X.append([])\n",
        "  for i in range(n):\n",
        "    for j in range(feat_amount):\n",
        "      if i == n - 1:\n",
        "        X[j].append(input_columns[j][i:])\n",
        "      else:\n",
        "        X[j].append(input_columns[j][i:i - n + 1])\n",
        "\n",
        "  ret_df = pd.DataFrame()\n",
        "  ret_df['Date'] = dates\n",
        "\n",
        "  for i in range(0, n):\n",
        "    for j in range(feat_amount):\n",
        "      ret_df[f'Target-{column_features[j]}-{n-i}'] = X[j][i]\n",
        "      \n",
        "  ret_df['Target'] = Y\n",
        "\n",
        "  return ret_df\n",
        "\n",
        "windowed_df = df_to_windowed_df(df, n=10)\n",
        "windowed_df.head()"
      ]
    },
    {
      "cell_type": "code",
      "execution_count": null,
      "metadata": {
        "colab": {
          "base_uri": "https://localhost:8080/"
        },
        "id": "-S5HqiMwLTVv",
        "outputId": "580740cf-0668-4045-85fd-67f0e784900a"
      },
      "outputs": [],
      "source": [
        "def windowed_df_to_date_X_y(windowed_dataframe):\n",
        "  df_as_np = windowed_dataframe.to_numpy()\n",
        "\n",
        "  dates = df_as_np[:, 0]\n",
        "\n",
        "  middle_matrix = df_as_np[:, 1:-1]\n",
        "  X = middle_matrix.reshape((len(dates), middle_matrix.shape[1], 1))\n",
        "\n",
        "  Y = df_as_np[:, -1]\n",
        "\n",
        "  return dates, X.astype(np.float32), Y.astype(np.float32)\n",
        "\n",
        "dates, X, y = windowed_df_to_date_X_y(windowed_df)\n",
        "dates.shape, X.shape, y.shape"
      ]
    },
    {
      "cell_type": "code",
      "execution_count": null,
      "metadata": {
        "id": "kklEU1zJLTVv"
      },
      "outputs": [],
      "source": [
        "train_percentage = 0.7\n",
        "val_percentage = 0.1\n",
        "test_percentage = 0.2\n",
        "\n",
        "assert train_percentage + val_percentage + test_percentage == 1\n",
        "\n",
        "lim_train = int(len(dates) * train_percentage)\n",
        "lim_val = int(len(dates) * val_percentage)\n",
        "\n",
        "dates_train, X_train, y_train = dates[:lim_train], X[:lim_train], y[:lim_train]\n",
        "dates_val, X_val, y_val = dates[lim_train: lim_train + lim_val], X[lim_train: lim_train + lim_val], y[lim_train: lim_train + lim_val]\n",
        "dates_test, X_test, y_test = dates[ lim_train + lim_val:], X[ lim_train + lim_val:], y[ lim_train + lim_val:]"
      ]
    },
    {
      "cell_type": "code",
      "execution_count": null,
      "metadata": {
        "colab": {
          "base_uri": "https://localhost:8080/"
        },
        "id": "Tz4edzTrLTVv",
        "outputId": "e0b8c07e-183f-4889-e601-5f1692db6bfc"
      },
      "outputs": [],
      "source": [
        "from tensorflow.keras.models import Sequential\n",
        "from tensorflow.keras.optimizers import Adam\n",
        "from tensorflow.keras.optimizers.schedules import InverseTimeDecay\n",
        "from tensorflow.keras import layers, regularizers\n",
        "from sklearn.utils.class_weight import compute_class_weight\n",
        "\n",
        "# Suponiendo que y_train es tu conjunto de etiquetas de entrenamiento\n",
        "# Calcula los pesos de las clases\n",
        "class_weights = compute_class_weight('balanced', classes=np.unique(y_train), y=y_train.flatten())\n",
        "class_weight_dict = {0: class_weights[0], 1: class_weights[1]}\n",
        "print(class_weight_dict)\n",
        "\n",
        "# Modificaciones en la arquitectura del modelo\n",
        "model = Sequential()\n",
        "model.add(layers.LSTM(32, input_shape=(20, 1), activation='tanh'))  # Uso de tanh y sigmoid\n",
        "model.add(layers.Dense(16, activation='relu', kernel_regularizer=regularizers.l2(0.01)))\n",
        "model.add(layers.Dropout(0.2))\n",
        "model.add(layers.Dense(1, activation='sigmoid'))\n",
        "\n",
        "# Ajustes en la tasa de aprendizaje y el decaimiento\n",
        "lr_schedule = InverseTimeDecay(0.005,\n",
        "                               decay_steps=1000,\n",
        "                               decay_rate=0.95,\n",
        "                               staircase=True)\n",
        "\n",
        "model.compile(loss='binary_crossentropy',\n",
        "              optimizer=Adam(learning_rate=lr_schedule),\n",
        "              metrics=['accuracy'])\n",
        "\n",
        "# Entrenamiento del modelo\n",
        "model.fit(X_train, y_train, validation_data=(X_val, y_val), epochs=30, class_weight=class_weight_dict)"
      ]
    },
    {
      "cell_type": "code",
      "execution_count": null,
      "metadata": {
        "colab": {
          "base_uri": "https://localhost:8080/",
          "height": 507
        },
        "id": "s-zULUvcLTVv",
        "outputId": "a9e7a1e6-ea0a-41f3-d699-7173cfc15a5f"
      },
      "outputs": [],
      "source": [
        "from sklearn.metrics import confusion_matrix\n",
        "y_pred = model.predict(X_train)\n",
        "\n",
        "# Threshold para convertir la salida del modelo en una predicción binaria\n",
        "y_pred_binary = np.where(y_pred > 0.5, 1, 0)\n",
        "\n",
        "# Calcular la matriz de confusión\n",
        "cm = confusion_matrix(y_train, y_pred_binary)\n",
        "\n",
        "# Imprimir la matriz de confusión\n",
        "print(cm)\n",
        "\n",
        "# Graficar la matriz de confusión\n",
        "plt.imshow(cm, cmap='Blues')\n",
        "plt.colorbar()\n",
        "plt.xlabel('Predicted label')\n",
        "plt.ylabel('True label')\n",
        "plt.show()"
      ]
    },
    {
      "cell_type": "code",
      "execution_count": null,
      "metadata": {
        "colab": {
          "base_uri": "https://localhost:8080/"
        },
        "id": "kV01BouFLTVv",
        "outputId": "9b421df8-4afb-41ad-af98-ede92d99f407"
      },
      "outputs": [],
      "source": [
        "from sklearn.metrics import confusion_matrix, classification_report\n",
        "\n",
        "y_pred = model.predict(X_train)\n",
        "y_pred = np.round(y_pred)\n",
        "\n",
        "# confusion matrix\n",
        "import sklearn.metrics as skm\n",
        "\n",
        "cm = confusion_matrix(y_train, y_pred)\n",
        "cr = classification_report(y_train, y_pred)\n",
        "\n",
        "print(\"Matriz de Confusión:\")\n",
        "print(cm)\n",
        "print(\"\\nClassification Report:\")\n",
        "print(cr)"
      ]
    },
    {
      "cell_type": "code",
      "execution_count": null,
      "metadata": {
        "colab": {
          "base_uri": "https://localhost:8080/"
        },
        "id": "FKxOgCOsat8y",
        "outputId": "de0aec9c-cc65-433e-cd13-1cda9c531e36"
      },
      "outputs": [],
      "source": [
        "from sklearn.metrics import confusion_matrix, classification_report\n",
        "\n",
        "y_pred = model.predict(X_test)\n",
        "y_pred = np.round(y_pred)\n",
        "\n",
        "# confusion matrix\n",
        "import sklearn.metrics as skm\n",
        "\n",
        "cm = confusion_matrix(y_test, y_pred)\n",
        "cr = classification_report(y_test, y_pred)\n",
        "\n",
        "print(\"Matriz de Confusión:\")\n",
        "print(cm)\n",
        "print(\"\\nClassification Report:\")\n",
        "print(cr)"
      ]
    }
  ],
  "metadata": {
    "colab": {
      "provenance": []
    },
    "kernelspec": {
      "display_name": "nb-env",
      "language": "python",
      "name": "python3"
    },
    "language_info": {
      "codemirror_mode": {
        "name": "ipython",
        "version": 3
      },
      "file_extension": ".py",
      "mimetype": "text/x-python",
      "name": "python",
      "nbconvert_exporter": "python",
      "pygments_lexer": "ipython3",
      "version": "3.12.1"
    }
  },
  "nbformat": 4,
  "nbformat_minor": 0
}
